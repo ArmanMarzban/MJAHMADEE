{
  "nbformat": 4,
  "nbformat_minor": 0,
  "metadata": {
    "colab": {
      "provenance": [],
      "gpuType": "T4"
    },
    "kernelspec": {
      "name": "python3",
      "display_name": "Python 3"
    },
    "language_info": {
      "name": "python"
    },
    "accelerator": "GPU"
  },
  "cells": [
    {
      "cell_type": "code",
      "source": [
        "# https://drive.google.com/file/d/13Wng5vLnuzmTX3zpDpRHRvUWFc_7GzOy/view?usp=sharing\n",
        "# https://drive.google.com/file/d/1XMMdJcKMejiRdxWQQHhaBqgKur9lI64Q/view?usp=sharing\n",
        "# # Load datasets\n",
        "!pip install --upgrade --no-cache-dir gdown\n",
        "!gdown  13Wng5vLnuzmTX3zpDpRHRvUWFc_7GzOy\n",
        "!gdown 1XMMdJcKMejiRdxWQQHhaBqgKur9lI64Q"
      ],
      "metadata": {
        "id": "fo-h9WuFSHqn",
        "colab": {
          "base_uri": "https://localhost:8080/"
        },
        "outputId": "83c4b14f-f98f-4fa8-a5c6-e2a65546ac1e"
      },
      "execution_count": null,
      "outputs": [
        {
          "output_type": "stream",
          "name": "stdout",
          "text": [
            "Requirement already satisfied: gdown in /usr/local/lib/python3.10/dist-packages (4.7.3)\n",
            "Collecting gdown\n",
            "  Downloading gdown-5.1.0-py3-none-any.whl (17 kB)\n",
            "Requirement already satisfied: beautifulsoup4 in /usr/local/lib/python3.10/dist-packages (from gdown) (4.12.3)\n",
            "Requirement already satisfied: filelock in /usr/local/lib/python3.10/dist-packages (from gdown) (3.13.3)\n",
            "Requirement already satisfied: requests[socks] in /usr/local/lib/python3.10/dist-packages (from gdown) (2.31.0)\n",
            "Requirement already satisfied: tqdm in /usr/local/lib/python3.10/dist-packages (from gdown) (4.66.2)\n",
            "Requirement already satisfied: soupsieve>1.2 in /usr/local/lib/python3.10/dist-packages (from beautifulsoup4->gdown) (2.5)\n",
            "Requirement already satisfied: charset-normalizer<4,>=2 in /usr/local/lib/python3.10/dist-packages (from requests[socks]->gdown) (3.3.2)\n",
            "Requirement already satisfied: idna<4,>=2.5 in /usr/local/lib/python3.10/dist-packages (from requests[socks]->gdown) (3.6)\n",
            "Requirement already satisfied: urllib3<3,>=1.21.1 in /usr/local/lib/python3.10/dist-packages (from requests[socks]->gdown) (2.0.7)\n",
            "Requirement already satisfied: certifi>=2017.4.17 in /usr/local/lib/python3.10/dist-packages (from requests[socks]->gdown) (2024.2.2)\n",
            "Requirement already satisfied: PySocks!=1.5.7,>=1.5.6 in /usr/local/lib/python3.10/dist-packages (from requests[socks]->gdown) (1.7.1)\n",
            "Installing collected packages: gdown\n",
            "  Attempting uninstall: gdown\n",
            "    Found existing installation: gdown 4.7.3\n",
            "    Uninstalling gdown-4.7.3:\n",
            "      Successfully uninstalled gdown-4.7.3\n",
            "Successfully installed gdown-5.1.0\n",
            "Downloading...\n",
            "From (original): https://drive.google.com/uc?id=13Wng5vLnuzmTX3zpDpRHRvUWFc_7GzOy\n",
            "From (redirected): https://drive.google.com/uc?id=13Wng5vLnuzmTX3zpDpRHRvUWFc_7GzOy&confirm=t&uuid=9c83df73-ac32-463a-a02e-e5706261100b\n",
            "To: /content/data_fault.mat\n",
            "100% 2.95M/2.95M [00:00<00:00, 26.0MB/s]\n",
            "Downloading...\n",
            "From (original): https://drive.google.com/uc?id=1XMMdJcKMejiRdxWQQHhaBqgKur9lI64Q\n",
            "From (redirected): https://drive.google.com/uc?id=1XMMdJcKMejiRdxWQQHhaBqgKur9lI64Q&confirm=t&uuid=ecad47dc-5b80-4ed4-abdc-931f19196695\n",
            "To: /content/data_normal.mat\n",
            "100% 7.77M/7.77M [00:00<00:00, 49.6MB/s]\n"
          ]
        }
      ]
    },
    {
      "cell_type": "code",
      "execution_count": null,
      "metadata": {
        "colab": {
          "base_uri": "https://localhost:8080/"
        },
        "id": "lwIUKiUTs8Ut",
        "outputId": "6965e463-7eac-4edb-c8f7-7691a3c9648d"
      },
      "outputs": [
        {
          "output_type": "stream",
          "name": "stdout",
          "text": [
            "(485643, 1)\n",
            "(122917, 1)\n"
          ]
        }
      ],
      "source": [
        "# Problem 2.1 Fault data Classification\n",
        "from sklearn.model_selection import train_test_split\n",
        "from scipy.io import loadmat\n",
        "\n",
        "data1 = loadmat('data_fault.mat')\n",
        "data2 = loadmat('data_normal.mat')\n",
        "# Class of normal data\n",
        "data_normal = data2['X100_DE_time']\n",
        "print(data_normal.shape)\n",
        "# Class of fault data\n",
        "data_fault = data1['X108_DE_time']\n",
        "print(data_fault.shape)\n",
        "\n"
      ]
    },
    {
      "cell_type": "code",
      "source": [
        "# Problem 2.2 (آ)\n",
        "import numpy as np\n",
        "\n",
        "def create_samples_matrix(data, num_samples=150, sample_length=250):\n",
        "    samples_matrix = np.zeros((num_samples, sample_length))\n",
        "    for i in range(num_samples):\n",
        "        start_index = i * sample_length\n",
        "        end_index = start_index + sample_length\n",
        "        samples_matrix[i, :] = data[start_index:end_index].flatten()\n",
        "    return samples_matrix\n",
        "\n",
        "samples_matrix_normal = create_samples_matrix(data_normal)\n",
        "print(samples_matrix_normal.shape)\n",
        "\n",
        "samples_matrix_fault = create_samples_matrix(data_fault)\n",
        "print(samples_matrix_fault.shape)\n"
      ],
      "metadata": {
        "colab": {
          "base_uri": "https://localhost:8080/"
        },
        "id": "2wjxLCG8ucn0",
        "outputId": "b1c8ab8e-6c1d-4d96-a642-165ee64860eb"
      },
      "execution_count": null,
      "outputs": [
        {
          "output_type": "stream",
          "name": "stdout",
          "text": [
            "(150, 250)\n",
            "(150, 250)\n"
          ]
        }
      ]
    },
    {
      "cell_type": "code",
      "source": [
        "# Problem 2.2 (ب)\n",
        "\n",
        "import numpy as np\n",
        "import matplotlib.pyplot as plt\n",
        "\n",
        "# Create Mean feature 1\n",
        "# Create fault and normal matrix data with labels\n",
        "data_Extracted = np.concatenate([\n",
        "    [(np.mean(samples_matrix_normal[i, :]), 1) for i in range(150)],\n",
        "    [(np.mean(samples_matrix_fault[i, :]), 0) for i in range(150)]\n",
        "])\n",
        "\n",
        "print(data_Extracted.shape)\n",
        "\n",
        "# Create Peak feature 2\n",
        "data_Extracted1 = np.concatenate([\n",
        "    [(np.max(np.abs(samples_matrix_normal[i, :])), 1) for i in range(150)],\n",
        "    [(np.max(np.abs(samples_matrix_fault[i, :])), 0) for i in range(150)]\n",
        "])\n",
        "\n",
        "print(data_Extracted1.shape)\n",
        "# Create std feature 3\n",
        "data_Extracted2 = np.concatenate([\n",
        "    [(np.std((samples_matrix_normal[i, :])), 1) for i in range(150)],\n",
        "    [(np.std((samples_matrix_fault[i, :])), 0) for i in range(150)]\n",
        "])\n",
        "\n",
        "print(data_Extracted2.shape)\n",
        "# Create Absolute mean feature 4\n",
        "data_Extracted3 = np.concatenate([\n",
        "    [(np.mean(np.abs(samples_matrix_normal[i, :])), 1) for i in range(150)],\n",
        "    [(np.mean(np.abs(samples_matrix_fault[i, :])), 0) for i in range(150)]\n",
        "])\n",
        "\n",
        "print(data_Extracted3.shape)\n",
        "#  Create RMS feature 5\n",
        "def RMS(x):\n",
        "  sum_of_squares=0\n",
        "  for i in range(len(x)):\n",
        "    sum_of_squares = (x[i])**2\n",
        "    return np.sqrt(sum_of_squares/len(x))\n",
        "data_Extracted4 = np.concatenate([\n",
        "    [(RMS((samples_matrix_normal[i, :])), 1) for i in range(150)],\n",
        "    [(RMS((samples_matrix_fault[i, :])), 0) for i in range(150)]\n",
        "])\n",
        "print(data_Extracted4.shape)\n",
        "\n",
        "#  Create Square Mean Root  SMR feature 6\n",
        "def SMR(x):\n",
        "  sum_of_squares=0\n",
        "  for i in range(len(x)):\n",
        "    sum_of_squares =np.abs(x[i])\n",
        "    return (np.sqrt(sum_of_squares)/len(x))**2\n",
        "data_Extracted5 = np.concatenate([\n",
        "    [(SMR((samples_matrix_normal[i, :])), 1) for i in range(150)],\n",
        "    [(SMR((samples_matrix_fault[i, :])), 0) for i in range(150)]\n",
        "])\n",
        "print(data_Extracted5.shape)\n",
        "#  Create Square Mean Root  SMR feature 7\n",
        "def Peak_to_Peak(x):\n",
        "  sum_of_squares=0\n",
        "  for i in range(len(x)):\n",
        "    sum_of_squares =np.max(x[i])-np.min(x[i])\n",
        "    return (sum_of_squares)\n",
        "data_Extracted6 = np.concatenate([\n",
        "    [(Peak_to_Peak((samples_matrix_normal[i, :])), 1) for i in range(150)],\n",
        "    [(Peak_to_Peak((samples_matrix_fault[i, :])), 0) for i in range(150)]\n",
        "])\n",
        "print(data_Extracted6.shape)\n",
        "#  Create Crest Factor feature 8\n",
        "def CF(x):\n",
        "  sum_of_squares=0\n",
        "  for i in range(len(x)):\n",
        "    sum_of_squares =np.max(np.abs(x[i]))\n",
        "    return (sum_of_squares)/RMS(x)\n",
        "data_Extracted7 = np.concatenate([\n",
        "    [(CF((samples_matrix_normal[i, :])), 1) for i in range(150)],\n",
        "    [(CF((samples_matrix_fault[i, :])), 0) for i in range(150)]\n",
        "])\n",
        "print(data_Extracted7.shape)\n",
        "# plot result of new datas\n",
        "plt.figure\n",
        "plt.plot(data_Extracted,'r')\n",
        "plt.plot(data_Extracted1,'b')\n",
        "plt.plot(data_Extracted2,'k')\n",
        "plt.plot(data_Extracted3,'g')\n",
        "plt.plot(data_Extracted4,'yellow')\n",
        "plt.plot(data_Extracted5,'gray')\n",
        "plt.plot(data_Extracted6,'brown')\n",
        "plt.plot(data_Extracted7,'pink')"
      ],
      "metadata": {
        "id": "3CULmkmfueey",
        "colab": {
          "base_uri": "https://localhost:8080/",
          "height": 638
        },
        "outputId": "35f804cd-1ec4-42bf-e11f-d10162126495"
      },
      "execution_count": null,
      "outputs": [
        {
          "output_type": "stream",
          "name": "stdout",
          "text": [
            "(300, 2)\n",
            "(300, 2)\n",
            "(300, 2)\n",
            "(300, 2)\n",
            "(300, 2)\n",
            "(300, 2)\n",
            "(300, 2)\n",
            "(300, 2)\n"
          ]
        },
        {
          "output_type": "stream",
          "name": "stderr",
          "text": [
            "<ipython-input-4-bf44a81eb812>:75: RuntimeWarning: invalid value encountered in scalar divide\n",
            "  return (sum_of_squares)/RMS(x)\n"
          ]
        },
        {
          "output_type": "execute_result",
          "data": {
            "text/plain": [
              "[<matplotlib.lines.Line2D at 0x7897b4ce32b0>,\n",
              " <matplotlib.lines.Line2D at 0x7897b4ce3280>]"
            ]
          },
          "metadata": {},
          "execution_count": 4
        },
        {
          "output_type": "display_data",
          "data": {
            "text/plain": [
              "<Figure size 640x480 with 1 Axes>"
            ],
            "image/png": "[encoded data removed]"
          },
          "metadata": {}
        }
      ]
    },
    {
      "cell_type": "markdown",
      "source": [
        "Ddata shuffling"
      ],
      "metadata": {
        "id": "tGqTRTiBJtHM"
      }
    },
    {
      "cell_type": "code",
      "source": [
        "# problem 2.2 (ج)\n",
        "data_Extracted_S = np.random.permutation(data_Extracted)\n",
        "\n",
        "data_Extracted_shuffled = data_Extracted_S[np.random.permutation(data_Extracted.shape[0]), :]\n",
        "print(\"Real data, Shuffle data:\")\n",
        "data_Extracted, data_Extracted_S\n",
        "# Cerate train and test data on new shuffle data\n",
        "# Split the dataset into a training and testing set\n",
        "X_train, X_test, y_train, y_test = train_test_split(data_Extracted3[:,0], data_Extracted[:,1], test_size=0.2, random_state=16)\n",
        "print(\"X_test, y_test\")\n",
        "\n",
        "\n"
      ],
      "metadata": {
        "id": "iO3oah5uJq9e",
        "colab": {
          "base_uri": "https://localhost:8080/"
        },
        "outputId": "0062f49b-059d-4d4f-94ce-32d3bff089ea"
      },
      "execution_count": null,
      "outputs": [
        {
          "output_type": "stream",
          "name": "stdout",
          "text": [
            "Real data, Shuffle data:\n",
            "X_test, y_test\n"
          ]
        }
      ]
    },
    {
      "cell_type": "markdown",
      "source": [
        "**Normalize Dataset**"
      ],
      "metadata": {
        "id": "_WVsVdV_iNCc"
      }
    },
    {
      "cell_type": "code",
      "source": [
        "# problem 2.2 (د)\n",
        "\n",
        "def min_max_scaler(data):\n",
        "\n",
        "  min_values = np.min(data, axis=0)\n",
        "  max_values = np.max(data, axis=0)\n",
        "  return (data - min_values) / (max_values - min_values)\n",
        "normalized_data = min_max_scaler(data_Extracted3)\n",
        "\n",
        "print(normalized_data)"
      ],
      "metadata": {
        "colab": {
          "base_uri": "https://localhost:8080/"
        },
        "id": "QKrj_i6hhVBB",
        "outputId": "1ca69302-1ee9-47cd-dbdd-ad6ef26bb064"
      },
      "execution_count": null,
      "outputs": [
        {
          "output_type": "stream",
          "name": "stdout",
          "text": [
            "[[0.06630176 1.        ]\n",
            " [0.0510146  1.        ]\n",
            " [0.0732909  1.        ]\n",
            " [0.06321062 1.        ]\n",
            " [0.06875101 1.        ]\n",
            " [0.03702198 1.        ]\n",
            " [0.0260201  1.        ]\n",
            " [0.05813642 1.        ]\n",
            " [0.02278193 1.        ]\n",
            " [0.08821229 1.        ]\n",
            " [0.07077352 1.        ]\n",
            " [0.01666061 1.        ]\n",
            " [0.02137263 1.        ]\n",
            " [0.04992445 1.        ]\n",
            " [0.06712296 1.        ]\n",
            " [0.04058289 1.        ]\n",
            " [0.03479148 1.        ]\n",
            " [0.04969495 1.        ]\n",
            " [0.         1.        ]\n",
            " [0.04171607 1.        ]\n",
            " [0.05043008 1.        ]\n",
            " [0.06937139 1.        ]\n",
            " [0.02172047 1.        ]\n",
            " [0.05531064 1.        ]\n",
            " [0.0485797  1.        ]\n",
            " [0.01279847 1.        ]\n",
            " [0.02026814 1.        ]\n",
            " [0.05041932 1.        ]\n",
            " [0.03353279 1.        ]\n",
            " [0.08700022 1.        ]\n",
            " [0.05235935 1.        ]\n",
            " [0.0729574  1.        ]\n",
            " [0.03528635 1.        ]\n",
            " [0.02843348 1.        ]\n",
            " [0.05302276 1.        ]\n",
            " [0.04437689 1.        ]\n",
            " [0.05820814 1.        ]\n",
            " [0.08429995 1.        ]\n",
            " [0.00795377 1.        ]\n",
            " [0.03425717 1.        ]\n",
            " [0.07115005 1.        ]\n",
            " [0.07491178 1.        ]\n",
            " [0.04377444 1.        ]\n",
            " [0.09475676 1.        ]\n",
            " [0.0946456  1.        ]\n",
            " [0.02265642 1.        ]\n",
            " [0.03622589 1.        ]\n",
            " [0.04003064 1.        ]\n",
            " [0.01141427 1.        ]\n",
            " [0.05270719 1.        ]\n",
            " [0.03697895 1.        ]\n",
            " [0.04572523 1.        ]\n",
            " [0.02446736 1.        ]\n",
            " [0.04295324 1.        ]\n",
            " [0.05620356 1.        ]\n",
            " [0.01836396 1.        ]\n",
            " [0.06060001 1.        ]\n",
            " [0.06888011 1.        ]\n",
            " [0.04741066 1.        ]\n",
            " [0.04010236 1.        ]\n",
            " [0.04610893 1.        ]\n",
            " [0.03893333 1.        ]\n",
            " [0.03900863 1.        ]\n",
            " [0.03741286 1.        ]\n",
            " [0.05942021 1.        ]\n",
            " [0.02049047 1.        ]\n",
            " [0.04000913 1.        ]\n",
            " [0.05197923 1.        ]\n",
            " [0.03378381 1.        ]\n",
            " [0.05355708 1.        ]\n",
            " [0.06063945 1.        ]\n",
            " [0.06160409 1.        ]\n",
            " [0.01101623 1.        ]\n",
            " [0.05304787 1.        ]\n",
            " [0.07140466 1.        ]\n",
            " [0.05297973 1.        ]\n",
            " [0.05486956 1.        ]\n",
            " [0.11272627 1.        ]\n",
            " [0.04435537 1.        ]\n",
            " [0.03020139 1.        ]\n",
            " [0.04267712 1.        ]\n",
            " [0.06216351 1.        ]\n",
            " [0.01997767 1.        ]\n",
            " [0.08048085 1.        ]\n",
            " [0.07189594 1.        ]\n",
            " [0.02235161 1.        ]\n",
            " [0.04770471 1.        ]\n",
            " [0.05047311 1.        ]\n",
            " [0.0281215  1.        ]\n",
            " [0.05770968 1.        ]\n",
            " [0.06252928 1.        ]\n",
            " [0.06122039 1.        ]\n",
            " [0.01748539 1.        ]\n",
            " [0.07647528 1.        ]\n",
            " [0.06615115 1.        ]\n",
            " [0.04025656 1.        ]\n",
            " [0.06787961 1.        ]\n",
            " [0.04325805 1.        ]\n",
            " [0.01833169 1.        ]\n",
            " [0.03016553 1.        ]\n",
            " [0.0458866  1.        ]\n",
            " [0.03545489 1.        ]\n",
            " [0.01900227 1.        ]\n",
            " [0.10281453 1.        ]\n",
            " [0.06519369 1.        ]\n",
            " [0.03798662 1.        ]\n",
            " [0.03661318 1.        ]\n",
            " [0.02769477 1.        ]\n",
            " [0.06505742 1.        ]\n",
            " [0.0686757  1.        ]\n",
            " [0.08046651 1.        ]\n",
            " [0.05628962 1.        ]\n",
            " [0.019533   1.        ]\n",
            " [0.0360179  1.        ]\n",
            " [0.02688433 1.        ]\n",
            " [0.05321999 1.        ]\n",
            " [0.06385969 1.        ]\n",
            " [0.04611969 1.        ]\n",
            " [0.03960391 1.        ]\n",
            " [0.00847374 1.        ]\n",
            " [0.06009796 1.        ]\n",
            " [0.0420926  1.        ]\n",
            " [0.02721065 1.        ]\n",
            " [0.07544251 1.        ]\n",
            " [0.04684048 1.        ]\n",
            " [0.03688213 1.        ]\n",
            " [0.03134891 1.        ]\n",
            " [0.0851355  1.        ]\n",
            " [0.03511422 1.        ]\n",
            " [0.03347183 1.        ]\n",
            " [0.07077352 1.        ]\n",
            " [0.03504609 1.        ]\n",
            " [0.03989438 1.        ]\n",
            " [0.09460615 1.        ]\n",
            " [0.07242308 1.        ]\n",
            " [0.06097654 1.        ]\n",
            " [0.04981687 1.        ]\n",
            " [0.10439955 1.        ]\n",
            " [0.04958019 1.        ]\n",
            " [0.03000774 1.        ]\n",
            " [0.09488227 1.        ]\n",
            " [0.0197912  1.        ]\n",
            " [0.07094206 1.        ]\n",
            " [0.03610038 1.        ]\n",
            " [0.06730226 1.        ]\n",
            " [0.05822607 1.        ]\n",
            " [0.03012608 1.        ]\n",
            " [0.08335325 1.        ]\n",
            " [0.06138893 1.        ]\n",
            " [0.06346164 1.        ]\n",
            " [0.67909337 0.        ]\n",
            " [1.         0.        ]\n",
            " [0.8249854  0.        ]\n",
            " [0.88120061 0.        ]\n",
            " [0.81644967 0.        ]\n",
            " [0.74800746 0.        ]\n",
            " [0.94127182 0.        ]\n",
            " [0.70665789 0.        ]\n",
            " [0.84361491 0.        ]\n",
            " [0.81459566 0.        ]\n",
            " [0.7766023  0.        ]\n",
            " [0.76604502 0.        ]\n",
            " [0.78780737 0.        ]\n",
            " [0.84146771 0.        ]\n",
            " [0.76850773 0.        ]\n",
            " [0.79318234 0.        ]\n",
            " [0.81371612 0.        ]\n",
            " [0.67785643 0.        ]\n",
            " [0.95009515 0.        ]\n",
            " [0.7109104  0.        ]\n",
            " [0.76007252 0.        ]\n",
            " [0.84114382 0.        ]\n",
            " [0.67898447 0.        ]\n",
            " [0.91810222 0.        ]\n",
            " [0.828135   0.        ]\n",
            " [0.67955687 0.        ]\n",
            " [0.78622419 0.        ]\n",
            " [0.68454373 0.        ]\n",
            " [0.84824157 0.        ]\n",
            " [0.75877695 0.        ]\n",
            " [0.78427804 0.        ]\n",
            " [0.70588724 0.        ]\n",
            " [0.7772445  0.        ]\n",
            " [0.84815501 0.        ]\n",
            " [0.7025757  0.        ]\n",
            " [0.71254662 0.        ]\n",
            " [0.80517201 0.        ]\n",
            " [0.7623705  0.        ]\n",
            " [0.86167201 0.        ]\n",
            " [0.67502794 0.        ]\n",
            " [0.74780084 0.        ]\n",
            " [0.75250847 0.        ]\n",
            " [0.70577556 0.        ]\n",
            " [0.85450446 0.        ]\n",
            " [0.69193466 0.        ]\n",
            " [0.82174646 0.        ]\n",
            " [0.76789904 0.        ]\n",
            " [0.71061163 0.        ]\n",
            " [0.81951829 0.        ]\n",
            " [0.65460305 0.        ]\n",
            " [0.79804913 0.        ]\n",
            " [0.74659461 0.        ]\n",
            " [0.68542885 0.        ]\n",
            " [0.83030453 0.        ]\n",
            " [0.78385083 0.        ]\n",
            " [0.7524275  0.        ]\n",
            " [0.74439995 0.        ]\n",
            " [0.64990659 0.        ]\n",
            " [0.85626633 0.        ]\n",
            " [0.8225199  0.        ]\n",
            " [0.70651269 0.        ]\n",
            " [0.67696013 0.        ]\n",
            " [0.68596495 0.        ]\n",
            " [0.88954088 0.        ]\n",
            " [0.73120126 0.        ]\n",
            " [0.8262363  0.        ]\n",
            " [0.73485903 0.        ]\n",
            " [0.70635075 0.        ]\n",
            " [0.86878931 0.        ]\n",
            " [0.66991543 0.        ]\n",
            " [0.79945639 0.        ]\n",
            " [0.75240237 0.        ]\n",
            " [0.7015035  0.        ]\n",
            " [0.88809453 0.        ]\n",
            " [0.71171176 0.        ]\n",
            " [0.8295646  0.        ]\n",
            " [0.72276046 0.        ]\n",
            " [0.73159216 0.        ]\n",
            " [0.79619511 0.        ]\n",
            " [0.67834227 0.        ]\n",
            " [0.90357444 0.        ]\n",
            " [0.74555033 0.        ]\n",
            " [0.69396179 0.        ]\n",
            " [0.79564784 0.        ]\n",
            " [0.7155957  0.        ]\n",
            " [0.94131929 0.        ]\n",
            " [0.72757699 0.        ]\n",
            " [0.63467797 0.        ]\n",
            " [0.80811219 0.        ]\n",
            " [0.82086413 0.        ]\n",
            " [0.79335266 0.        ]\n",
            " [0.75281841 0.        ]\n",
            " [0.75274581 0.        ]\n",
            " [0.7806426  0.        ]\n",
            " [0.82380151 0.        ]\n",
            " [0.91461198 0.        ]\n",
            " [0.71127059 0.        ]\n",
            " [0.6718951  0.        ]\n",
            " [0.82375684 0.        ]\n",
            " [0.68329283 0.        ]\n",
            " [0.8296344  0.        ]\n",
            " [0.80011535 0.        ]\n",
            " [0.75823247 0.        ]\n",
            " [0.79507823 0.        ]\n",
            " [0.67224412 0.        ]\n",
            " [0.86101864 0.        ]\n",
            " [0.72207358 0.        ]\n",
            " [0.78430316 0.        ]\n",
            " [0.79990593 0.        ]\n",
            " [0.82649877 0.        ]\n",
            " [0.91022544 0.        ]\n",
            " [0.70552984 0.        ]\n",
            " [0.82993317 0.        ]\n",
            " [0.79740971 0.        ]\n",
            " [0.67161588 0.        ]\n",
            " [0.86311837 0.        ]\n",
            " [0.82735877 0.        ]\n",
            " [0.74470988 0.        ]\n",
            " [0.88546707 0.        ]\n",
            " [0.64475499 0.        ]\n",
            " [0.90064264 0.        ]\n",
            " [0.85831021 0.        ]\n",
            " [0.74384151 0.        ]\n",
            " [0.77407537 0.        ]\n",
            " [0.73691408 0.        ]\n",
            " [0.88758914 0.        ]\n",
            " [0.7803913  0.        ]\n",
            " [0.82298619 0.        ]\n",
            " [0.74942031 0.        ]\n",
            " [0.76954922 0.        ]\n",
            " [0.89267931 0.        ]\n",
            " [0.75031381 0.        ]\n",
            " [0.83659255 0.        ]\n",
            " [0.78351856 0.        ]\n",
            " [0.70283538 0.        ]\n",
            " [0.89108217 0.        ]\n",
            " [0.70163753 0.        ]\n",
            " [0.8113986  0.        ]\n",
            " [0.79745718 0.        ]\n",
            " [0.73251917 0.        ]\n",
            " [0.77282726 0.        ]\n",
            " [0.68900844 0.        ]\n",
            " [0.97143308 0.        ]\n",
            " [0.82239425 0.        ]\n",
            " [0.64684913 0.        ]\n",
            " [0.8893901  0.        ]\n",
            " [0.80586168 0.        ]\n",
            " [0.93835398 0.        ]\n",
            " [0.7942322  0.        ]\n",
            " [0.75488742 0.        ]]\n"
          ]
        }
      ]
    },
    {
      "cell_type": "markdown",
      "source": [
        "**LinearRegression**"
      ],
      "metadata": {
        "id": "ToUlbBWbmT-m"
      }
    },
    {
      "cell_type": "code",
      "source": [
        "# Problem 2.3\n",
        "def sigmoid(x):\n",
        "    return 3 / (1 + np.exp(-x))\n",
        "def logistic_regression(x, w):\n",
        "    y_hat = sigmoid(np.dot(x, w))\n",
        "    return y_hat\n",
        "def bce(y, y_hat):\n",
        "    loss = -(np.mean(y*np.log(y_hat) + (1-y)*np.log(1-y_hat)))\n",
        "    return loss\n",
        "def gradient(x, y, y_hat):\n",
        "    grads = (x.T @ (y_hat - y)) / len(y)\n",
        "    return grads\n",
        "def accuracy(y, y_hat):\n",
        "    acc = np.sum(y == np.round(y_hat)) / len(y)\n",
        "    return acc\n",
        "def gradient_descent(w, eta, grads):\n",
        "    w -= eta*grads\n",
        "    return w"
      ],
      "metadata": {
        "id": "ar21Ei-h_Pw3"
      },
      "execution_count": null,
      "outputs": []
    },
    {
      "cell_type": "code",
      "source": [
        "from sklearn.metrics import accuracy_score\n",
        "X_train = np.array(X_train)\n",
        "\n",
        "w = .5\n",
        "# print(w.shape)\n",
        "\n",
        "eta = 0.1\n",
        "n_epochs = 900 #N\n",
        "error_hist = []\n",
        "\n",
        "for epoch in range(n_epochs):\n",
        "    # predictions\n",
        "    y_hat = logistic_regression(X_train, w)\n",
        "    y_pred =np.round(logistic_regression(X_test, w))\n",
        "\n",
        "\n",
        "    # loss\n",
        "    e = bce(y_train, y_hat)\n",
        "    error_hist.append(e)\n",
        "\n",
        "    # gradients\n",
        "    grads = gradient(X_train, y_train, y_hat)\n",
        "\n",
        "    # gradient descent\n",
        "    w = gradient_descent(w, eta, grads)\n",
        "print('Accurscy:')\n",
        "accuracy(y_test, y_pred)"
      ],
      "metadata": {
        "id": "3RdWanK-DVFq",
        "colab": {
          "base_uri": "https://localhost:8080/"
        },
        "outputId": "88fb96e0-1e60-4418-f134-1b68dbf2e4cc"
      },
      "execution_count": null,
      "outputs": [
        {
          "output_type": "stream",
          "name": "stdout",
          "text": [
            "Accurscy:\n"
          ]
        },
        {
          "output_type": "stream",
          "name": "stderr",
          "text": [
            "<ipython-input-7-e075f8c27e3a>:8: RuntimeWarning: invalid value encountered in log\n",
            "  loss = -(np.mean(y*np.log(y_hat) + (1-y)*np.log(1-y_hat)))\n",
            "<ipython-input-7-e075f8c27e3a>:8: RuntimeWarning: divide by zero encountered in log\n",
            "  loss = -(np.mean(y*np.log(y_hat) + (1-y)*np.log(1-y_hat)))\n",
            "<ipython-input-7-e075f8c27e3a>:8: RuntimeWarning: invalid value encountered in multiply\n",
            "  loss = -(np.mean(y*np.log(y_hat) + (1-y)*np.log(1-y_hat)))\n"
          ]
        },
        {
          "output_type": "execute_result",
          "data": {
            "text/plain": [
              "0.9666666666666667"
            ]
          },
          "metadata": {},
          "execution_count": 22
        }
      ]
    },
    {
      "cell_type": "code",
      "source": [
        "X = data_Extracted3[:,0]\n",
        "y = data_Extracted3[:,1]\n",
        "plt.figure(1)\n",
        "plt.scatter(X,y)\n",
        "\n",
        " # Plot the real labels\n",
        "plt.figure\n",
        "plt.scatter(range(len(y_test)), y_test, c='b', marker='o', label='Real Labels', s=50)\n",
        "plt.xlabel('Sample Index')\n",
        "plt.ylabel('Class Label')\n",
        "plt.title('Real Labels')\n",
        "# Plot the predicted labels\n",
        "plt.scatter(range(len(y_pred)), y_pred, c='r', marker='x', label='Predicted Labels', s=50)\n",
        "plt.xlabel('Sample')\n",
        "plt.ylabel('Class Label')\n",
        "plt.title('Predicted Labels for test data')\n"
      ],
      "metadata": {
        "colab": {
          "base_uri": "https://localhost:8080/",
          "height": 489
        },
        "id": "Gf48FDvlFS15",
        "outputId": "dd09ef6b-9abd-4224-8e1c-dea04516fae4"
      },
      "execution_count": null,
      "outputs": [
        {
          "output_type": "execute_result",
          "data": {
            "text/plain": [
              "Text(0.5, 1.0, 'Predicted Labels for test data')"
            ]
          },
          "metadata": {},
          "execution_count": 23
        },
        {
          "output_type": "display_data",
          "data": {
            "text/plain": [
              "<Figure size 640x480 with 1 Axes>"
            ],
            "image/png": "[encoded data removed]"
          },
          "metadata": {}
        }
      ]
    },
    {
      "cell_type": "code",
      "source": [
        "# Linear Regressions (2.4)\n",
        "from sklearn.linear_model import LogisticRegression, SGDClassifier\n",
        "from sklearn.metrics import accuracy_score\n",
        "iteration=1000  # Sample\n",
        "# Training of Logistic Regression model\n",
        "logistic_model = LogisticRegression(max_iter=iteration,  random_state=16)\n",
        "logistic_model.fit(X_train.reshape(-1, 1), y_train.reshape(-1, 1))\n",
        "predict = logistic_model.predict(X_test.reshape(-1, 1))\n",
        "# Validation of Accuracy\n",
        "Ac_train = logistic_model.score(X_train.reshape(-1, 1), y_train.reshape(-1, 1))\n",
        "Ac_test = logistic_model.score(X_test.reshape(-1, 1), y_test.reshape(-1, 1))\n",
        "print(\"Logistic Regression Model:\")\n",
        "print(\"Training accuracy, Testing accuracy:\", Ac_train, Ac_test)"
      ],
      "metadata": {
        "id": "TwClO_oG3LJM",
        "colab": {
          "base_uri": "https://localhost:8080/"
        },
        "outputId": "d1ba3492-4352-4ef0-c952-256ba1539500"
      },
      "execution_count": null,
      "outputs": [
        {
          "output_type": "stream",
          "name": "stdout",
          "text": [
            "Logistic Regression Model:\n",
            "Training accuracy, Testing accuracy: 1.0 1.0\n"
          ]
        },
        {
          "output_type": "stream",
          "name": "stderr",
          "text": [
            "/usr/local/lib/python3.10/dist-packages/sklearn/utils/validation.py:1143: DataConversionWarning: A column-vector y was passed when a 1d array was expected. Please change the shape of y to (n_samples, ), for example using ravel().\n",
            "  y = column_or_1d(y, warn=True)\n"
          ]
        }
      ]
    },
    {
      "cell_type": "code",
      "source": [
        "from mlxtend.plotting import plot_decision_regions\n",
        "# Assuming X has more than 2 features, add filler values\n",
        "filler_feature_values = {2: 0}  # Filler value for the 3rd feature\n",
        "X = data_Extracted3[:,0]\n",
        "y = data_Extracted3[:,1]\n",
        "y_pred1 = logistic_model.predict(X_test.reshape(-1,1))\n",
        "\n",
        "plt.figure(1)\n",
        "plt.scatter(X,y)\n",
        "\n",
        " # Plot the real labels\n",
        "plt.figure\n",
        "plt.scatter(range(len(y_test)), y_test, c='b', marker='o', label='Real Labels', s=50)\n",
        "plt.xlabel('Sample Index')\n",
        "plt.ylabel('Class Label')\n",
        "plt.title('Real Labels')\n",
        "# Plot the predicted labels\n",
        "plt.scatter(range(len(y_pred1)), y_pred1, c='r', marker='x', label='Predicted Labels', s=50)\n",
        "plt.xlabel('Sample')\n",
        "plt.ylabel('Class Label')\n",
        "plt.title('Predicted Labels for test data')"
      ],
      "metadata": {
        "colab": {
          "base_uri": "https://localhost:8080/",
          "height": 489
        },
        "id": "fEfihvx-ozuV",
        "outputId": "c194d1c0-2118-4954-af1e-445622c742a1"
      },
      "execution_count": null,
      "outputs": [
        {
          "output_type": "execute_result",
          "data": {
            "text/plain": [
              "Text(0.5, 1.0, 'Predicted Labels for test data')"
            ]
          },
          "metadata": {},
          "execution_count": 14
        },
        {
          "output_type": "display_data",
          "data": {
            "text/plain": [
              "<Figure size 640x480 with 1 Axes>"
            ],
            "image/png": "[encoded data removed]"
          },
          "metadata": {}
        }
      ]
    }
  ]
}