{
  "nbformat": 4,
  "nbformat_minor": 0,
  "metadata": {
    "colab": {
      "provenance": []
    },
    "kernelspec": {
      "name": "python3",
      "display_name": "Python 3"
    },
    "language_info": {
      "name": "python"
    }
  },
  "cells": [
    {
      "cell_type": "code",
      "execution_count": null,
      "metadata": {
        "colab": {
          "base_uri": "https://localhost:8080/"
        },
        "id": "7ux0JY1XtIck",
        "outputId": "331871b2-c281-4f96-afbc-b56c9eaf5125"
      },
      "outputs": [
        {
          "output_type": "stream",
          "name": "stdout",
          "text": [
            "Requirement already satisfied: gdown in /usr/local/lib/python3.10/dist-packages (5.1.0)\n",
            "Collecting gdown\n",
            "  Downloading gdown-5.2.0-py3-none-any.whl (18 kB)\n",
            "Requirement already satisfied: beautifulsoup4 in /usr/local/lib/python3.10/dist-packages (from gdown) (4.12.3)\n",
            "Requirement already satisfied: filelock in /usr/local/lib/python3.10/dist-packages (from gdown) (3.14.0)\n",
            "Requirement already satisfied: requests[socks] in /usr/local/lib/python3.10/dist-packages (from gdown) (2.31.0)\n",
            "Requirement already satisfied: tqdm in /usr/local/lib/python3.10/dist-packages (from gdown) (4.66.4)\n",
            "Requirement already satisfied: soupsieve>1.2 in /usr/local/lib/python3.10/dist-packages (from beautifulsoup4->gdown) (2.5)\n",
            "Requirement already satisfied: charset-normalizer<4,>=2 in /usr/local/lib/python3.10/dist-packages (from requests[socks]->gdown) (3.3.2)\n",
            "Requirement already satisfied: idna<4,>=2.5 in /usr/local/lib/python3.10/dist-packages (from requests[socks]->gdown) (3.7)\n",
            "Requirement already satisfied: urllib3<3,>=1.21.1 in /usr/local/lib/python3.10/dist-packages (from requests[socks]->gdown) (2.0.7)\n",
            "Requirement already satisfied: certifi>=2017.4.17 in /usr/local/lib/python3.10/dist-packages (from requests[socks]->gdown) (2024.2.2)\n",
            "Requirement already satisfied: PySocks!=1.5.7,>=1.5.6 in /usr/local/lib/python3.10/dist-packages (from requests[socks]->gdown) (1.7.1)\n",
            "Installing collected packages: gdown\n",
            "  Attempting uninstall: gdown\n",
            "    Found existing installation: gdown 5.1.0\n",
            "    Uninstalling gdown-5.1.0:\n",
            "      Successfully uninstalled gdown-5.1.0\n",
            "Successfully installed gdown-5.2.0\n",
            "Downloading...\n",
            "From (original): https://drive.google.com/uc?id=19lE94uYNqgPStOoZxp3PxA6BZnRwxUIU\n",
            "From (redirected): https://drive.google.com/uc?id=19lE94uYNqgPStOoZxp3PxA6BZnRwxUIU&confirm=t&uuid=858e0fbb-9b2b-48be-8613-d0e3389361cd\n",
            "To: /content/DATA.mat\n",
            "100% 2.91M/2.91M [00:00<00:00, 82.7MB/s]\n"
          ]
        }
      ],
      "source": [
        "# Load datasets\n",
        "# https://drive.google.com/file/d/19lE94uYNqgPStOoZxp3PxA6BZnRwxUIU/view?usp=sharing\n",
        "\n",
        "!pip install --upgrade --no-cache-dir gdown\n",
        "\n",
        "!gdown 19lE94uYNqgPStOoZxp3PxA6BZnRwxUIU"
      ]
    },
    {
      "cell_type": "code",
      "source": [
        "from sklearn.model_selection import train_test_split\n",
        "from scipy.io import loadmat\n",
        "\n",
        "data = loadmat('DATA.mat')\n",
        "data_NOV9 = data['NOV9']\n",
        "data_NOV17 = data['NOV17']\n",
        "# print(data.keys())\n",
        "# X = data['X']\n",
        "# y = data['y']\n",
        "\n",
        "# Print the shapes of X and y\n",
        "print(data_NOV9.shape)\n",
        "print(data_NOV17.shape)"
      ],
      "metadata": {
        "colab": {
          "base_uri": "https://localhost:8080/"
        },
        "id": "FuJ90s-AaNnI",
        "outputId": "2f1bda72-dc96-4d3d-95c9-4016e4c5197b"
      },
      "execution_count": null,
      "outputs": [
        {
          "output_type": "stream",
          "name": "stdout",
          "text": [
            "(86400, 17)\n",
            "(86400, 17)\n"
          ]
        }
      ]
    },
    {
      "cell_type": "markdown",
      "source": [
        "Iris datasets"
      ],
      "metadata": {
        "id": "XVA3S6iroPxI"
      }
    },
    {
      "cell_type": "code",
      "source": [
        "from sklearn import datasets\n",
        "\n",
        "iris = datasets.load_iris()\n",
        "X = iris.data\n",
        "y = iris.target\n",
        "print(X.shape)\n",
        "print(y.shape)\n",
        "X, y"
      ],
      "metadata": {
        "colab": {
          "base_uri": "https://localhost:8080/"
        },
        "id": "SQHe6_VUmej0",
        "outputId": "f4214b75-facb-47b9-de9f-731dd971b322"
      },
      "execution_count": 104,
      "outputs": [
        {
          "output_type": "stream",
          "name": "stdout",
          "text": [
            "(150, 4)\n",
            "(150,)\n"
          ]
        },
        {
          "output_type": "execute_result",
          "data": {
            "text/plain": [
              "(array([[5.1, 3.5, 1.4, 0.2],\n",
              "        [4.9, 3. , 1.4, 0.2],\n",
              "        [4.7, 3.2, 1.3, 0.2],\n",
              "        [4.6, 3.1, 1.5, 0.2],\n",
              "        [5. , 3.6, 1.4, 0.2],\n",
              "        [5.4, 3.9, 1.7, 0.4],\n",
              "        [4.6, 3.4, 1.4, 0.3],\n",
              "        [5. , 3.4, 1.5, 0.2],\n",
              "        [4.4, 2.9, 1.4, 0.2],\n",
              "        [4.9, 3.1, 1.5, 0.1],\n",
              "        [5.4, 3.7, 1.5, 0.2],\n",
              "        [4.8, 3.4, 1.6, 0.2],\n",
              "        [4.8, 3. , 1.4, 0.1],\n",
              "        [4.3, 3. , 1.1, 0.1],\n",
              "        [5.8, 4. , 1.2, 0.2],\n",
              "        [5.7, 4.4, 1.5, 0.4],\n",
              "        [5.4, 3.9, 1.3, 0.4],\n",
              "        [5.1, 3.5, 1.4, 0.3],\n",
              "        [5.7, 3.8, 1.7, 0.3],\n",
              "        [5.1, 3.8, 1.5, 0.3],\n",
              "        [5.4, 3.4, 1.7, 0.2],\n",
              "        [5.1, 3.7, 1.5, 0.4],\n",
              "        [4.6, 3.6, 1. , 0.2],\n",
              "        [5.1, 3.3, 1.7, 0.5],\n",
              "        [4.8, 3.4, 1.9, 0.2],\n",
              "        [5. , 3. , 1.6, 0.2],\n",
              "        [5. , 3.4, 1.6, 0.4],\n",
              "        [5.2, 3.5, 1.5, 0.2],\n",
              "        [5.2, 3.4, 1.4, 0.2],\n",
              "        [4.7, 3.2, 1.6, 0.2],\n",
              "        [4.8, 3.1, 1.6, 0.2],\n",
              "        [5.4, 3.4, 1.5, 0.4],\n",
              "        [5.2, 4.1, 1.5, 0.1],\n",
              "        [5.5, 4.2, 1.4, 0.2],\n",
              "        [4.9, 3.1, 1.5, 0.2],\n",
              "        [5. , 3.2, 1.2, 0.2],\n",
              "        [5.5, 3.5, 1.3, 0.2],\n",
              "        [4.9, 3.6, 1.4, 0.1],\n",
              "        [4.4, 3. , 1.3, 0.2],\n",
              "        [5.1, 3.4, 1.5, 0.2],\n",
              "        [5. , 3.5, 1.3, 0.3],\n",
              "        [4.5, 2.3, 1.3, 0.3],\n",
              "        [4.4, 3.2, 1.3, 0.2],\n",
              "        [5. , 3.5, 1.6, 0.6],\n",
              "        [5.1, 3.8, 1.9, 0.4],\n",
              "        [4.8, 3. , 1.4, 0.3],\n",
              "        [5.1, 3.8, 1.6, 0.2],\n",
              "        [4.6, 3.2, 1.4, 0.2],\n",
              "        [5.3, 3.7, 1.5, 0.2],\n",
              "        [5. , 3.3, 1.4, 0.2],\n",
              "        [7. , 3.2, 4.7, 1.4],\n",
              "        [6.4, 3.2, 4.5, 1.5],\n",
              "        [6.9, 3.1, 4.9, 1.5],\n",
              "        [5.5, 2.3, 4. , 1.3],\n",
              "        [6.5, 2.8, 4.6, 1.5],\n",
              "        [5.7, 2.8, 4.5, 1.3],\n",
              "        [6.3, 3.3, 4.7, 1.6],\n",
              "        [4.9, 2.4, 3.3, 1. ],\n",
              "        [6.6, 2.9, 4.6, 1.3],\n",
              "        [5.2, 2.7, 3.9, 1.4],\n",
              "        [5. , 2. , 3.5, 1. ],\n",
              "        [5.9, 3. , 4.2, 1.5],\n",
              "        [6. , 2.2, 4. , 1. ],\n",
              "        [6.1, 2.9, 4.7, 1.4],\n",
              "        [5.6, 2.9, 3.6, 1.3],\n",
              "        [6.7, 3.1, 4.4, 1.4],\n",
              "        [5.6, 3. , 4.5, 1.5],\n",
              "        [5.8, 2.7, 4.1, 1. ],\n",
              "        [6.2, 2.2, 4.5, 1.5],\n",
              "        [5.6, 2.5, 3.9, 1.1],\n",
              "        [5.9, 3.2, 4.8, 1.8],\n",
              "        [6.1, 2.8, 4. , 1.3],\n",
              "        [6.3, 2.5, 4.9, 1.5],\n",
              "        [6.1, 2.8, 4.7, 1.2],\n",
              "        [6.4, 2.9, 4.3, 1.3],\n",
              "        [6.6, 3. , 4.4, 1.4],\n",
              "        [6.8, 2.8, 4.8, 1.4],\n",
              "        [6.7, 3. , 5. , 1.7],\n",
              "        [6. , 2.9, 4.5, 1.5],\n",
              "        [5.7, 2.6, 3.5, 1. ],\n",
              "        [5.5, 2.4, 3.8, 1.1],\n",
              "        [5.5, 2.4, 3.7, 1. ],\n",
              "        [5.8, 2.7, 3.9, 1.2],\n",
              "        [6. , 2.7, 5.1, 1.6],\n",
              "        [5.4, 3. , 4.5, 1.5],\n",
              "        [6. , 3.4, 4.5, 1.6],\n",
              "        [6.7, 3.1, 4.7, 1.5],\n",
              "        [6.3, 2.3, 4.4, 1.3],\n",
              "        [5.6, 3. , 4.1, 1.3],\n",
              "        [5.5, 2.5, 4. , 1.3],\n",
              "        [5.5, 2.6, 4.4, 1.2],\n",
              "        [6.1, 3. , 4.6, 1.4],\n",
              "        [5.8, 2.6, 4. , 1.2],\n",
              "        [5. , 2.3, 3.3, 1. ],\n",
              "        [5.6, 2.7, 4.2, 1.3],\n",
              "        [5.7, 3. , 4.2, 1.2],\n",
              "        [5.7, 2.9, 4.2, 1.3],\n",
              "        [6.2, 2.9, 4.3, 1.3],\n",
              "        [5.1, 2.5, 3. , 1.1],\n",
              "        [5.7, 2.8, 4.1, 1.3],\n",
              "        [6.3, 3.3, 6. , 2.5],\n",
              "        [5.8, 2.7, 5.1, 1.9],\n",
              "        [7.1, 3. , 5.9, 2.1],\n",
              "        [6.3, 2.9, 5.6, 1.8],\n",
              "        [6.5, 3. , 5.8, 2.2],\n",
              "        [7.6, 3. , 6.6, 2.1],\n",
              "        [4.9, 2.5, 4.5, 1.7],\n",
              "        [7.3, 2.9, 6.3, 1.8],\n",
              "        [6.7, 2.5, 5.8, 1.8],\n",
              "        [7.2, 3.6, 6.1, 2.5],\n",
              "        [6.5, 3.2, 5.1, 2. ],\n",
              "        [6.4, 2.7, 5.3, 1.9],\n",
              "        [6.8, 3. , 5.5, 2.1],\n",
              "        [5.7, 2.5, 5. , 2. ],\n",
              "        [5.8, 2.8, 5.1, 2.4],\n",
              "        [6.4, 3.2, 5.3, 2.3],\n",
              "        [6.5, 3. , 5.5, 1.8],\n",
              "        [7.7, 3.8, 6.7, 2.2],\n",
              "        [7.7, 2.6, 6.9, 2.3],\n",
              "        [6. , 2.2, 5. , 1.5],\n",
              "        [6.9, 3.2, 5.7, 2.3],\n",
              "        [5.6, 2.8, 4.9, 2. ],\n",
              "        [7.7, 2.8, 6.7, 2. ],\n",
              "        [6.3, 2.7, 4.9, 1.8],\n",
              "        [6.7, 3.3, 5.7, 2.1],\n",
              "        [7.2, 3.2, 6. , 1.8],\n",
              "        [6.2, 2.8, 4.8, 1.8],\n",
              "        [6.1, 3. , 4.9, 1.8],\n",
              "        [6.4, 2.8, 5.6, 2.1],\n",
              "        [7.2, 3. , 5.8, 1.6],\n",
              "        [7.4, 2.8, 6.1, 1.9],\n",
              "        [7.9, 3.8, 6.4, 2. ],\n",
              "        [6.4, 2.8, 5.6, 2.2],\n",
              "        [6.3, 2.8, 5.1, 1.5],\n",
              "        [6.1, 2.6, 5.6, 1.4],\n",
              "        [7.7, 3. , 6.1, 2.3],\n",
              "        [6.3, 3.4, 5.6, 2.4],\n",
              "        [6.4, 3.1, 5.5, 1.8],\n",
              "        [6. , 3. , 4.8, 1.8],\n",
              "        [6.9, 3.1, 5.4, 2.1],\n",
              "        [6.7, 3.1, 5.6, 2.4],\n",
              "        [6.9, 3.1, 5.1, 2.3],\n",
              "        [5.8, 2.7, 5.1, 1.9],\n",
              "        [6.8, 3.2, 5.9, 2.3],\n",
              "        [6.7, 3.3, 5.7, 2.5],\n",
              "        [6.7, 3. , 5.2, 2.3],\n",
              "        [6.3, 2.5, 5. , 1.9],\n",
              "        [6.5, 3. , 5.2, 2. ],\n",
              "        [6.2, 3.4, 5.4, 2.3],\n",
              "        [5.9, 3. , 5.1, 1.8]]),\n",
              " array([0, 0, 0, 0, 0, 0, 0, 0, 0, 0, 0, 0, 0, 0, 0, 0, 0, 0, 0, 0, 0, 0,\n",
              "        0, 0, 0, 0, 0, 0, 0, 0, 0, 0, 0, 0, 0, 0, 0, 0, 0, 0, 0, 0, 0, 0,\n",
              "        0, 0, 0, 0, 0, 0, 1, 1, 1, 1, 1, 1, 1, 1, 1, 1, 1, 1, 1, 1, 1, 1,\n",
              "        1, 1, 1, 1, 1, 1, 1, 1, 1, 1, 1, 1, 1, 1, 1, 1, 1, 1, 1, 1, 1, 1,\n",
              "        1, 1, 1, 1, 1, 1, 1, 1, 1, 1, 1, 1, 2, 2, 2, 2, 2, 2, 2, 2, 2, 2,\n",
              "        2, 2, 2, 2, 2, 2, 2, 2, 2, 2, 2, 2, 2, 2, 2, 2, 2, 2, 2, 2, 2, 2,\n",
              "        2, 2, 2, 2, 2, 2, 2, 2, 2, 2, 2, 2, 2, 2, 2, 2, 2, 2]))"
            ]
          },
          "metadata": {},
          "execution_count": 104
        }
      ]
    },
    {
      "cell_type": "markdown",
      "source": [
        "normalized the datasets"
      ],
      "metadata": {
        "id": "uaVFJ5_5onRV"
      }
    },
    {
      "cell_type": "code",
      "source": [
        "import numpy as np\n",
        "\n",
        "def min_max_scaler(data):\n",
        "\n",
        "  min_values = np.min(data, axis=0)\n",
        "  max_values = np.max(data, axis=0)\n",
        "  return (data - min_values) / (max_values - min_values)\n",
        "normalized_data = min_max_scaler(X)\n",
        "\n",
        "print(normalized_data)\n"
      ],
      "metadata": {
        "colab": {
          "base_uri": "https://localhost:8080/"
        },
        "id": "71ibkLI6ovRi",
        "outputId": "e0592f00-f50d-4596-9a40-c4e9c9c83afe"
      },
      "execution_count": 113,
      "outputs": [
        {
          "output_type": "stream",
          "name": "stdout",
          "text": [
            "[[0.47222222 0.41666667 0.6440678  0.70833333]\n",
            " [0.47222222 0.29166667 0.69491525 0.625     ]\n",
            " [0.66666667 0.20833333 0.81355932 0.70833333]\n",
            " [0.47222222 0.08333333 0.6779661  0.58333333]\n",
            " [0.86111111 0.33333333 0.86440678 0.75      ]\n",
            " [0.22222222 0.75       0.08474576 0.08333333]\n",
            " [0.13888889 0.41666667 0.06779661 0.        ]\n",
            " [0.72222222 0.45833333 0.69491525 0.91666667]\n",
            " [0.41666667 0.29166667 0.52542373 0.375     ]\n",
            " [0.83333333 0.375      0.89830508 0.70833333]\n",
            " [0.41666667 0.29166667 0.69491525 0.75      ]\n",
            " [0.13888889 0.58333333 0.15254237 0.04166667]\n",
            " [0.30555556 0.41666667 0.59322034 0.58333333]\n",
            " [0.94444444 0.41666667 0.86440678 0.91666667]\n",
            " [0.22222222 0.58333333 0.08474576 0.04166667]\n",
            " [0.19444444 0.58333333 0.10169492 0.125     ]\n",
            " [0.61111111 0.33333333 0.61016949 0.58333333]\n",
            " [0.38888889 1.         0.08474576 0.125     ]\n",
            " [0.02777778 0.5        0.05084746 0.04166667]\n",
            " [0.22222222 0.70833333 0.08474576 0.125     ]\n",
            " [0.16666667 0.45833333 0.08474576 0.04166667]\n",
            " [0.80555556 0.66666667 0.86440678 1.        ]\n",
            " [0.44444444 0.41666667 0.54237288 0.58333333]\n",
            " [0.19444444 0.125      0.38983051 0.375     ]\n",
            " [0.33333333 0.16666667 0.45762712 0.375     ]\n",
            " [0.30555556 0.79166667 0.05084746 0.125     ]\n",
            " [0.5        0.375      0.62711864 0.54166667]\n",
            " [0.72222222 0.45833333 0.74576271 0.83333333]\n",
            " [0.11111111 0.5        0.10169492 0.04166667]\n",
            " [0.47222222 0.58333333 0.59322034 0.625     ]\n",
            " [0.22222222 0.625      0.06779661 0.08333333]\n",
            " [0.94444444 0.75       0.96610169 0.875     ]\n",
            " [0.5        0.33333333 0.50847458 0.5       ]\n",
            " [0.72222222 0.45833333 0.66101695 0.58333333]\n",
            " [0.19444444 0.66666667 0.06779661 0.04166667]\n",
            " [0.22222222 0.20833333 0.33898305 0.41666667]\n",
            " [0.02777778 0.41666667 0.05084746 0.04166667]\n",
            " [0.19444444 0.625      0.10169492 0.20833333]\n",
            " [0.36111111 0.33333333 0.66101695 0.79166667]\n",
            " [0.16666667 0.16666667 0.38983051 0.375     ]\n",
            " [0.69444444 0.33333333 0.6440678  0.54166667]\n",
            " [0.61111111 0.41666667 0.76271186 0.70833333]\n",
            " [0.22222222 0.54166667 0.11864407 0.16666667]\n",
            " [0.19444444 0.58333333 0.08474576 0.04166667]\n",
            " [0.22222222 0.625      0.06779661 0.04166667]\n",
            " [0.13888889 0.58333333 0.10169492 0.04166667]\n",
            " [0.55555556 0.33333333 0.69491525 0.58333333]\n",
            " [0.41666667 0.25       0.50847458 0.45833333]\n",
            " [0.16666667 0.20833333 0.59322034 0.66666667]\n",
            " [0.5        0.25       0.77966102 0.54166667]\n",
            " [0.22222222 0.75       0.10169492 0.04166667]\n",
            " [0.61111111 0.41666667 0.81355932 0.875     ]\n",
            " [0.30555556 0.58333333 0.11864407 0.04166667]\n",
            " [0.61111111 0.41666667 0.71186441 0.79166667]\n",
            " [0.08333333 0.5        0.06779661 0.04166667]\n",
            " [0.5        0.41666667 0.66101695 0.70833333]\n",
            " [0.11111111 0.5        0.05084746 0.04166667]\n",
            " [0.72222222 0.5        0.79661017 0.91666667]\n",
            " [0.69444444 0.41666667 0.76271186 0.83333333]\n",
            " [0.69444444 0.5        0.83050847 0.91666667]\n",
            " [0.33333333 0.91666667 0.06779661 0.04166667]\n",
            " [0.30555556 0.70833333 0.08474576 0.04166667]\n",
            " [0.55555556 0.20833333 0.6779661  0.75      ]\n",
            " [0.38888889 0.375      0.54237288 0.5       ]\n",
            " [0.55555556 0.375      0.77966102 0.70833333]\n",
            " [0.47222222 0.375      0.59322034 0.58333333]\n",
            " [0.19444444 0.625      0.05084746 0.08333333]\n",
            " [0.52777778 0.33333333 0.6440678  0.70833333]\n",
            " [0.36111111 0.20833333 0.49152542 0.41666667]\n",
            " [0.66666667 0.54166667 0.79661017 0.83333333]\n",
            " [0.16666667 0.66666667 0.06779661 0.        ]\n",
            " [0.33333333 0.125      0.50847458 0.5       ]\n",
            " [0.55555556 0.58333333 0.77966102 0.95833333]\n",
            " [0.61111111 0.5        0.69491525 0.79166667]\n",
            " [0.75       0.5        0.62711864 0.54166667]\n",
            " [0.58333333 0.33333333 0.77966102 0.875     ]\n",
            " [0.08333333 0.66666667 0.         0.04166667]\n",
            " [0.44444444 0.5        0.6440678  0.70833333]\n",
            " [0.33333333 0.16666667 0.47457627 0.41666667]\n",
            " [0.80555556 0.5        0.84745763 0.70833333]\n",
            " [0.38888889 0.20833333 0.6779661  0.79166667]\n",
            " [0.19444444 0.         0.42372881 0.375     ]\n",
            " [0.5        0.33333333 0.62711864 0.45833333]\n",
            " [0.52777778 0.375      0.55932203 0.5       ]\n",
            " [0.77777778 0.41666667 0.83050847 0.83333333]\n",
            " [0.66666667 0.45833333 0.62711864 0.58333333]\n",
            " [0.25       0.58333333 0.06779661 0.04166667]\n",
            " [0.55555556 0.125      0.57627119 0.5       ]\n",
            " [0.16666667 0.41666667 0.06779661 0.04166667]\n",
            " [0.55555556 0.54166667 0.84745763 1.        ]\n",
            " [0.58333333 0.33333333 0.77966102 0.83333333]\n",
            " [0.25       0.29166667 0.49152542 0.54166667]\n",
            " [0.25       0.625      0.08474576 0.04166667]\n",
            " [0.38888889 0.25       0.42372881 0.375     ]\n",
            " [0.30555556 0.58333333 0.08474576 0.125     ]\n",
            " [0.66666667 0.41666667 0.6779661  0.66666667]\n",
            " [0.63888889 0.375      0.61016949 0.5       ]\n",
            " [0.08333333 0.58333333 0.06779661 0.08333333]\n",
            " [0.02777778 0.375      0.06779661 0.04166667]\n",
            " [0.05555556 0.125      0.05084746 0.08333333]\n",
            " [0.36111111 0.29166667 0.54237288 0.5       ]\n",
            " [1.         0.75       0.91525424 0.79166667]\n",
            " [0.19444444 0.5        0.03389831 0.04166667]\n",
            " [0.36111111 0.41666667 0.52542373 0.5       ]\n",
            " [0.38888889 0.75       0.11864407 0.08333333]\n",
            " [0.22222222 0.75       0.15254237 0.125     ]\n",
            " [0.16666667 0.45833333 0.08474576 0.        ]\n",
            " [0.13888889 0.45833333 0.10169492 0.04166667]\n",
            " [0.41666667 0.83333333 0.03389831 0.04166667]\n",
            " [0.33333333 0.25       0.57627119 0.45833333]\n",
            " [0.38888889 0.33333333 0.52542373 0.5       ]\n",
            " [0.13888889 0.41666667 0.06779661 0.08333333]\n",
            " [0.36111111 0.41666667 0.59322034 0.58333333]\n",
            " [0.58333333 0.45833333 0.76271186 0.70833333]\n",
            " [0.94444444 0.33333333 0.96610169 0.79166667]\n",
            " [0.38888889 0.33333333 0.59322034 0.5       ]\n",
            " [0.36111111 0.375      0.44067797 0.5       ]\n",
            " [0.41666667 0.29166667 0.69491525 0.75      ]\n",
            " [0.33333333 0.625      0.05084746 0.04166667]\n",
            " [0.33333333 0.20833333 0.50847458 0.5       ]\n",
            " [0.63888889 0.41666667 0.57627119 0.54166667]\n",
            " [0.         0.41666667 0.01694915 0.        ]\n",
            " [0.08333333 0.45833333 0.08474576 0.04166667]\n",
            " [0.27777778 0.70833333 0.08474576 0.04166667]\n",
            " [0.58333333 0.375      0.55932203 0.5       ]\n",
            " [0.58333333 0.5        0.72881356 0.91666667]\n",
            " [0.55555556 0.20833333 0.66101695 0.58333333]\n",
            " [0.19444444 0.54166667 0.06779661 0.04166667]\n",
            " [0.30555556 0.79166667 0.11864407 0.125     ]\n",
            " [0.58333333 0.29166667 0.72881356 0.75      ]\n",
            " [0.44444444 0.41666667 0.69491525 0.70833333]\n",
            " [0.66666667 0.41666667 0.71186441 0.91666667]\n",
            " [0.66666667 0.54166667 0.79661017 1.        ]\n",
            " [0.55555556 0.29166667 0.66101695 0.70833333]\n",
            " [0.47222222 0.08333333 0.50847458 0.375     ]\n",
            " [0.55555556 0.54166667 0.62711864 0.625     ]\n",
            " [0.80555556 0.41666667 0.81355932 0.625     ]\n",
            " [0.19444444 0.41666667 0.10169492 0.04166667]\n",
            " [0.38888889 0.41666667 0.54237288 0.45833333]\n",
            " [0.52777778 0.08333333 0.59322034 0.58333333]\n",
            " [0.52777778 0.58333333 0.74576271 0.91666667]\n",
            " [0.66666667 0.45833333 0.57627119 0.54166667]\n",
            " [0.41666667 0.29166667 0.49152542 0.45833333]\n",
            " [0.25       0.875      0.08474576 0.        ]\n",
            " [0.58333333 0.5        0.59322034 0.58333333]\n",
            " [0.66666667 0.45833333 0.77966102 0.95833333]\n",
            " [0.94444444 0.25       1.         0.91666667]\n",
            " [0.5        0.41666667 0.61016949 0.54166667]\n",
            " [0.41666667 0.33333333 0.69491525 0.95833333]\n",
            " [0.91666667 0.41666667 0.94915254 0.83333333]]\n"
          ]
        }
      ]
    },
    {
      "cell_type": "markdown",
      "source": [
        "**Data shuffling** *and test and train"
      ],
      "metadata": {
        "id": "SRu0BIy1qOBO"
      }
    },
    {
      "cell_type": "code",
      "source": [
        "from sklearn.model_selection import train_test_split\n",
        "from scipy.io import loadmat\n",
        "X = np.random.permutation(X)\n",
        "y = np.random.permutation(y)\n",
        "X_train, X_test, y_train, y_test = train_test_split(X, y, test_size=0.15, random_state=27)\n",
        "y_test"
      ],
      "metadata": {
        "colab": {
          "base_uri": "https://localhost:8080/"
        },
        "id": "_WJ7n2zAqPFx",
        "outputId": "fd893fb7-6eba-447a-d789-69a2d82ba650"
      },
      "execution_count": 114,
      "outputs": [
        {
          "output_type": "execute_result",
          "data": {
            "text/plain": [
              "array([0, 1, 1, 0, 2, 2, 0, 1, 1, 2, 0, 2, 2, 2, 2, 2, 0, 2, 1, 2, 1, 0,\n",
              "       2])"
            ]
          },
          "metadata": {},
          "execution_count": 114
        }
      ]
    },
    {
      "cell_type": "markdown",
      "source": [
        "MLP Classification"
      ],
      "metadata": {
        "id": "m5Eq4GnXri7z"
      }
    },
    {
      "cell_type": "code",
      "source": [
        "from sklearn.neural_network import MLPClassifier, MLPRegressor\n",
        "\n",
        "from imblearn.under_sampling import RandomUnderSampler\n",
        "\n",
        "from sklearn.model_selection import train_test_split\n",
        "\n",
        "from sklearn.preprocessing import StandardScaler\n",
        "from sklearn.metrics import accuracy_score\n",
        "import numpy as np\n",
        "from sklearn.neural_network import MLPClassifier\n",
        "from sklearn.metrics import confusion_matrix, classification_report\n",
        "import seaborn as sns\n",
        "import matplotlib.pyplot as plt"
      ],
      "metadata": {
        "id": "JIAu4j6Orh0j"
      },
      "execution_count": 115,
      "outputs": []
    },
    {
      "cell_type": "code",
      "source": [
        "# MLP Classifire\n",
        "from sklearn.model_selection import validation_curve\n",
        "from tensorflow.keras.callbacks import History\n",
        "# model = MLPClassifier(hidden_layer_sizes=(40, 20,5),random_state=16, verbose = True, loss='log_loss')\n",
        "model_mlp = MLPClassifier(hidden_layer_sizes=(50,30,10),alpha=0.001,max_iter=800 , activation = 'relu' , verbose = 0)\n",
        "history = History()\n",
        "Training = model_mlp.fit(X_train , y_train)\n",
        "accuracy_mlp = model_mlp.score(X_test , y_test )"
      ],
      "metadata": {
        "id": "surlFON5ryrh"
      },
      "execution_count": 132,
      "outputs": []
    },
    {
      "cell_type": "code",
      "source": [
        "# Making predictions on the test set\n",
        "y_pred_mlp = model_mlp.predict(X_test )\n",
        "accuracy_mlp = model_mlp.score(X_test ,y_test )\n",
        "Loss = model_mlp.loss_curve_\n",
        "# Calculating confusion matrix\n",
        "cf_matrix = confusion_matrix(y_test, y_pred_mlp)\n",
        "\n",
        "# Plotting confusion matrix as a heatmap with fitted text\n",
        "plt.figure(figsize=(8, 6))\n",
        "sns.heatmap(cf_matrix, annot=True, fmt='g', cmap='Reds', annot_kws={\"size\": 12})\n",
        "\n",
        "# Get the axis to modify layout\n",
        "plt.gca().set_ylim(len(np.unique(y_test)), 0)  # Fix for matplotlib 3.1.1 and 3.1.2\n",
        "plt.title('Confusion Matrix')\n",
        "plt.xlabel('Predicted labels')\n",
        "plt.ylabel('True labels')\n",
        "\n",
        "# Save the plot as PNG\n",
        "plt.tight_layout()\n",
        "plt.savefig('confusion_matrix.png', dpi=300)\n",
        "plt.show()\n",
        "\n",
        "# Printing classification report\n",
        "print(\"Classification Report:\")\n",
        "print(classification_report(y_test, y_pred_mlp))\n",
        "print(\"test_accuracy:\", accuracy_mlp)"
      ],
      "metadata": {
        "colab": {
          "base_uri": "https://localhost:8080/",
          "height": 939
        },
        "id": "VDfpIMN3sFo8",
        "outputId": "0842c56d-e3a5-4898-b718-c285b7104204"
      },
      "execution_count": 133,
      "outputs": [
        {
          "output_type": "display_data",
          "data": {
            "text/plain": [
              "<Figure size 800x600 with 2 Axes>"
            ],
            "image/png": "[encoded data removed]"
          },
          "metadata": {}
        },
        {
          "output_type": "stream",
          "name": "stdout",
          "text": [
            "Classification Report:\n",
            "              precision    recall  f1-score   support\n",
            "\n",
            "           0       0.25      0.50      0.33         6\n",
            "           1       0.36      0.67      0.47         6\n",
            "           2       0.00      0.00      0.00        11\n",
            "\n",
            "    accuracy                           0.30        23\n",
            "   macro avg       0.20      0.39      0.27        23\n",
            "weighted avg       0.16      0.30      0.21        23\n",
            "\n",
            "test_accuracy: 0.30434782608695654\n"
          ]
        },
        {
          "output_type": "stream",
          "name": "stderr",
          "text": [
            "/usr/local/lib/python3.10/dist-packages/sklearn/metrics/_classification.py:1344: UndefinedMetricWarning: Precision and F-score are ill-defined and being set to 0.0 in labels with no predicted samples. Use `zero_division` parameter to control this behavior.\n",
            "  _warn_prf(average, modifier, msg_start, len(result))\n",
            "/usr/local/lib/python3.10/dist-packages/sklearn/metrics/_classification.py:1344: UndefinedMetricWarning: Precision and F-score are ill-defined and being set to 0.0 in labels with no predicted samples. Use `zero_division` parameter to control this behavior.\n",
            "  _warn_prf(average, modifier, msg_start, len(result))\n",
            "/usr/local/lib/python3.10/dist-packages/sklearn/metrics/_classification.py:1344: UndefinedMetricWarning: Precision and F-score are ill-defined and being set to 0.0 in labels with no predicted samples. Use `zero_division` parameter to control this behavior.\n",
            "  _warn_prf(average, modifier, msg_start, len(result))\n"
          ]
        }
      ]
    },
    {
      "cell_type": "code",
      "source": [
        " # Plot the real labels\n",
        "plt.figure\n",
        "plt.scatter(range(len(y_test)), y_test, c='g', marker='o', edgecolors='k', label='Real Labels', s=50)\n",
        "plt.xlabel('Sample Index')\n",
        "plt.ylabel('Class Label')\n",
        "plt.title('Real Labels')\n",
        "# Plot the predicted labels\n",
        "plt.scatter(range(len(y_pred_2)), y_pred_2, c='r', marker='x', label='Predicted Labels', s=50)\n",
        "plt.xlabel('Sample')\n",
        "plt.ylabel('Class Label')\n",
        "plt.title('Predicted Labels for test data')\n",
        "plt.legend()"
      ],
      "metadata": {
        "colab": {
          "base_uri": "https://localhost:8080/",
          "height": 489
        },
        "id": "dOTcyOQD073w",
        "outputId": "dbd725b3-0030-4772-98cb-2857567b5795"
      },
      "execution_count": 119,
      "outputs": [
        {
          "output_type": "execute_result",
          "data": {
            "text/plain": [
              "<matplotlib.legend.Legend at 0x7b66dda99030>"
            ]
          },
          "metadata": {},
          "execution_count": 119
        },
        {
          "output_type": "display_data",
          "data": {
            "text/plain": [
              "<Figure size 640x480 with 1 Axes>"
            ],
            "image/png": "[encoded data removed]"
          },
          "metadata": {}
        }
      ]
    }
  ]
}